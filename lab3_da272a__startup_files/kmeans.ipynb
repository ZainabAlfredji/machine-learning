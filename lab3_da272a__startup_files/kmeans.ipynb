{
 "cells": [
  {
   "cell_type": "code",
   "execution_count": null,
   "id": "f3b244c6",
   "metadata": {},
   "outputs": [],
   "source": [
    "# Some required imports.\n",
    "# Make sure you have these packages installed on your system.\n",
    "import pandas as pd\n",
    "import numpy as np\n",
    "import math \n",
    "import matplotlib.pyplot as plt\n",
    "import random as rd"
   ]
  },
  {
   "cell_type": "code",
   "execution_count": null,
   "id": "6df4d40b",
   "metadata": {},
   "outputs": [],
   "source": [
    "# Distance function used by the kmeans algorithm (euklidean distance)\n",
    "def distance(a,b):\n",
    "    return math.sqrt(math.pow(a[0]-b[0],2) + math.pow(a[1]-b[1],2))\n",
    "    "
   ]
  },
  {
   "cell_type": "code",
   "execution_count": null,
   "id": "941af76c",
   "metadata": {},
   "outputs": [],
   "source": [
    "# This method contains the implementation of the kmeans algorithm, which \n",
    "# takes following input parameters:\n",
    "#   data_points - A Pandas DataFrame, where each row contains an x and y coordinate.\n",
    "#   termination_tol - Terminate when the total distance (sum of distance between each datapoint\n",
    "#                     and its centroid) is smaller than termination_tol. \n",
    "#   max_iter - Stop after maximum max_iter iterations.\n",
    "#\n",
    "# The method should return the following three items\n",
    "#   centroids - Pandas Dataframe containing centroids\n",
    "#   data_points - The data_points with added cluster column\n",
    "#   total_dist - The total distance for the final clustering\n",
    "#\n",
    "# return centroids, data_points, total_dist\n",
    "#\n",
    "#  \n",
    "def kmeans(data_points, num_clusters, termination_tol, max_iter):\n",
    "    \n",
    "    # You should implement the kmeans algorithm by editing this function.\n",
    "\n"
   ]
  },
  {
   "cell_type": "code",
   "execution_count": null,
   "id": "81cc0108",
   "metadata": {},
   "outputs": [],
   "source": [
    "# Test elbow method using this code\n",
    "\n",
    "# Read data points from csv file\n",
    "data_points = pd.read_csv(\"cluster_data_points.csv\")\n",
    "\n",
    "# Set termination criteria\n",
    "termination_tol = 0.001\n",
    "max_iter = 100\n",
    "\n",
    "\n",
    "# Plot random data using matplotlib\n",
    "fig, ax = plt.subplots()\n",
    "ax.scatter(data_points['x'], data_points['y'], c='black')\n",
    "plt.title(\"Data points\")\n",
    "plt.show()\n",
    "\n",
    "\n",
    "num_clusters_to_test = 15\n",
    "total_dist_elbow = []\n",
    "\n",
    "for k in range(1,num_clusters_to_test+1):\n",
    "    kmeans_output = kmeans(data_points, k, termination_tol, max_iter)\n",
    "    total_dist_elbow.append(kmeans_output[2])\n",
    "    \n",
    "#Plot elbow curve\n",
    "plt.plot(list(range(1,num_clusters_to_test+1)), total_dist_elbow)\n",
    "plt.title(\"Elbow method\")\n",
    "plt.xlabel(\"Number of clusters (k)\")\n",
    "plt.ylabel(\"Total distance\")\n",
    "plt.show()\n"
   ]
  },
  {
   "cell_type": "code",
   "execution_count": null,
   "id": "a6110576",
   "metadata": {},
   "outputs": [],
   "source": [
    "# Plot clusters for different values of k using this code\n",
    "\n",
    "data_points = pd.read_csv(\"cluster_data_points.csv\")\n",
    "\n",
    "termination_tol = 0.001\n",
    "max_iter = 100\n",
    "\n",
    "for k in range(1,11):\n",
    "    \n",
    "\n",
    "    kmeans_output = kmeans(data_points, k, termination_tol, max_iter)\n",
    "    \n",
    "    fig, ax = plt.subplots()\n",
    "    ax.scatter(kmeans_output[0]['x'], kmeans_output[0]['y'], c='black', marker='*')\n",
    "\n",
    "    for centroid_id in range(k):\n",
    "        points = data_points.loc[kmeans_output[1]['cluster'] == centroid_id]\n",
    "\n",
    "        ax.scatter(points['x'], points['y'])\n",
    "\n",
    "    plt.title(\"Clusters for k=\" + str(k))\n",
    "    plt.show()\n"
   ]
  }
 ],
 "metadata": {
  "kernelspec": {
   "display_name": "Python [conda env:da272a_ass3]",
   "language": "python",
   "name": "conda-env-da272a_ass3-py"
  },
  "language_info": {
   "codemirror_mode": {
    "name": "ipython",
    "version": 3
   },
   "file_extension": ".py",
   "mimetype": "text/x-python",
   "name": "python",
   "nbconvert_exporter": "python",
   "pygments_lexer": "ipython3",
   "version": "3.11.5"
  }
 },
 "nbformat": 4,
 "nbformat_minor": 5
}
